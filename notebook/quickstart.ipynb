{
 "cells": [
  {
   "cell_type": "code",
   "execution_count": 1,
   "metadata": {},
   "outputs": [
    {
     "name": "stdout",
     "output_type": "stream",
     "text": [
      "\u001b[2;36m[12/14/24 12:23:04]\u001b[0m\u001b[2;36m \u001b[0m\u001b[34mINFO    \u001b[0m                                                                                       \n",
      "\u001b[2;36m                    \u001b[0m            _____     _ _ ______    _       ______            _                                \n",
      "\u001b[2;36m                    \u001b[0m           \u001b[35m/\u001b[0m ____|   | | |  ____|  | |     |  ____|          | |                               \n",
      "\u001b[2;36m                    \u001b[0m          | |     ___| | | |__ __ _| |_ ___| |__  __  ___ __ | | ___  _ __ ___ _ __            \n",
      "\u001b[2;36m                    \u001b[0m          | |    \u001b[35m/\u001b[0m _ \\ | |  __/ _` | __/ _ \\  __| \\ \\\u001b[35m/\u001b[0m \u001b[35m/\u001b[0m \u001b[32m'_ \\| |/ _ \\| '\u001b[0m__/ _ \\ '__|           \n",
      "\u001b[2;36m                    \u001b[0m          | |___|  __/ | | | | \u001b[1m(\u001b[0m_| | ||  __/ |____ >  <| |_\u001b[1m)\u001b[0m | | \u001b[1m(\u001b[0m_\u001b[1m)\u001b[0m | | |  __/ |              \n",
      "\u001b[2;36m                    \u001b[0m           \\_____\\___|_|_|_|  \\__,_|\\__\\___|______/_/\\_\\ .__/|_|\\___/|_|  \\___|_|              \n",
      "\u001b[2;36m                    \u001b[0m                                                       | |                                     \n",
      "\u001b[2;36m                    \u001b[0m                                                       |_|                                     \n",
      "\u001b[2;36m                    \u001b[0m                                                                                               \n"
     ]
    }
   ],
   "source": [
    "import cfe\n",
    "\n",
    "cfe.logger.setLevel(\"DEBUG\")"
   ]
  },
  {
   "cell_type": "markdown",
   "metadata": {},
   "source": [
    "Data"
   ]
  },
  {
   "cell_type": "code",
   "execution_count": 2,
   "metadata": {},
   "outputs": [
    {
     "name": "stdout",
     "output_type": "stream",
     "text": [
      "\u001b[2;36m[12/14/24 12:23:10]\u001b[0m\u001b[2;36m \u001b[0m\u001b[32mDEBUG   \u001b[0m FateAnnData __init__                                                                  \n"
     ]
    },
    {
     "data": {
      "text/plain": [
       "AnnData object with n_obs × n_vars = 0 × 0\n",
       "    uns: 'cfe'"
      ]
     },
     "execution_count": 2,
     "metadata": {},
     "output_type": "execute_result"
    }
   ],
   "source": [
    "fadata = cfe.data.FateAnnData()\n",
    "fadata"
   ]
  },
  {
   "cell_type": "code",
   "execution_count": 4,
   "metadata": {},
   "outputs": [
    {
     "data": {
      "text/plain": [
       "{'trajectory': {}, 'waypoint': {}}"
      ]
     },
     "execution_count": 4,
     "metadata": {},
     "output_type": "execute_result"
    }
   ],
   "source": [
    "fadata.uns[\"cfe\"]"
   ]
  },
  {
   "cell_type": "markdown",
   "metadata": {},
   "source": [
    "Method"
   ]
  },
  {
   "cell_type": "code",
   "execution_count": 3,
   "metadata": {},
   "outputs": [
    {
     "name": "stdout",
     "output_type": "stream",
     "text": [
      "\u001b[2;36m                   \u001b[0m\u001b[2;36m \u001b[0m\u001b[32mDEBUG   \u001b[0m FateMethod __init__                                                                   \n",
      "\u001b[2;36m                   \u001b[0m\u001b[2;36m \u001b[0m\u001b[32mDEBUG   \u001b[0m FateMethod choose_backend                                                             \n",
      "\u001b[2;36m                   \u001b[0m\u001b[2;36m \u001b[0m\u001b[32mDEBUG   \u001b[0m FateMethod infer_trajectory                                                           \n",
      "\u001b[2;36m                   \u001b[0m\u001b[2;36m \u001b[0m\u001b[32mDEBUG   \u001b[0m FateAnnData add_trajectory                                                            \n"
     ]
    }
   ],
   "source": [
    "method = cfe.method.FateMethod()\n",
    "method.infer_trajectory(fadata)"
   ]
  },
  {
   "cell_type": "markdown",
   "metadata": {},
   "source": [
    "Plot"
   ]
  },
  {
   "cell_type": "code",
   "execution_count": 4,
   "metadata": {},
   "outputs": [
    {
     "name": "stdout",
     "output_type": "stream",
     "text": [
      "\u001b[2;36m[12/14/24 11:15:27]\u001b[0m\u001b[2;36m \u001b[0m\u001b[32mDEBUG   \u001b[0m plot_trajectory                                                                       \n"
     ]
    }
   ],
   "source": [
    "cfe.plot.plot_trajectory(fadata, method)"
   ]
  }
 ],
 "metadata": {
  "kernelspec": {
   "display_name": "cfe",
   "language": "python",
   "name": "python3"
  },
  "language_info": {
   "codemirror_mode": {
    "name": "ipython",
    "version": 3
   },
   "file_extension": ".py",
   "mimetype": "text/x-python",
   "name": "python",
   "nbconvert_exporter": "python",
   "pygments_lexer": "ipython3",
   "version": "3.10.15"
  }
 },
 "nbformat": 4,
 "nbformat_minor": 2
}
