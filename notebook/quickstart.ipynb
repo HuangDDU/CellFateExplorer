{
 "cells": [
  {
   "cell_type": "code",
   "execution_count": 1,
   "metadata": {},
   "outputs": [
    {
     "name": "stdout",
     "output_type": "stream",
     "text": [
      "\u001b[2;36m[12/11/24 10:23:02]\u001b[0m\u001b[2;36m \u001b[0m\u001b[34mINFO    \u001b[0m                                                                                       \n",
      "\u001b[2;36m                    \u001b[0m            _____     _ _ ______    _       ______            _                                \n",
      "\u001b[2;36m                    \u001b[0m           \u001b[35m/\u001b[0m ____|   | | |  ____|  | |     |  ____|          | |                               \n",
      "\u001b[2;36m                    \u001b[0m          | |     ___| | | |__ __ _| |_ ___| |__  __  ___ __ | | ___  _ __ ___ _ __            \n",
      "\u001b[2;36m                    \u001b[0m          | |    \u001b[35m/\u001b[0m _ \\ | |  __/ _` | __/ _ \\  __| \\ \\\u001b[35m/\u001b[0m \u001b[35m/\u001b[0m \u001b[32m'_ \\| |/ _ \\| '\u001b[0m__/ _ \\ '__|           \n",
      "\u001b[2;36m                    \u001b[0m          | |___|  __/ | | | | \u001b[1m(\u001b[0m_| | ||  __/ |____ >  <| |_\u001b[1m)\u001b[0m | | \u001b[1m(\u001b[0m_\u001b[1m)\u001b[0m | | |  __/ |              \n",
      "\u001b[2;36m                    \u001b[0m           \\_____\\___|_|_|_|  \\__,_|\\__\\___|______/_/\\_\\ .__/|_|\\___/|_|  \\___|_|              \n",
      "\u001b[2;36m                    \u001b[0m                                                       | |                                     \n",
      "\u001b[2;36m                    \u001b[0m                                                       |_|                                     \n",
      "\u001b[2;36m                    \u001b[0m                                                                                               \n"
     ]
    }
   ],
   "source": [
    "import cfe"
   ]
  }
 ],
 "metadata": {
  "kernelspec": {
   "display_name": "cfe",
   "language": "python",
   "name": "python3"
  },
  "language_info": {
   "codemirror_mode": {
    "name": "ipython",
    "version": 3
   },
   "file_extension": ".py",
   "mimetype": "text/x-python",
   "name": "python",
   "nbconvert_exporter": "python",
   "pygments_lexer": "ipython3",
   "version": "3.10.15"
  }
 },
 "nbformat": 4,
 "nbformat_minor": 2
}
